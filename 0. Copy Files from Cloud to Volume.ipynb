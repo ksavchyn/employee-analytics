{
 "cells": [
  {
   "cell_type": "code",
   "execution_count": 0,
   "metadata": {
    "application/vnd.databricks.v1+cell": {
     "cellMetadata": {
      "byteLimit": 2048000,
      "rowLimit": 10000
     },
     "inputWidgets": {},
     "nuid": "a7f3d709-d8d8-42ff-9e11-4cf0706abe76",
     "showTitle": true,
     "tableResultSettingsMap": {},
     "title": "Create Widgets"
    }
   },
   "outputs": [],
   "source": [
    "# create widgets\n",
    "dbutils.widgets.text('catalog', 'katsavchyn')\n",
    "dbutils.widgets.text('schema', 'employee_analytics')\n",
    "dbutils.widgets.text('volume', 'raw_files')\n",
    "dbutils.widgets.text('sas_token', \"\")"
   ]
  },
  {
   "cell_type": "code",
   "execution_count": 0,
   "metadata": {
    "application/vnd.databricks.v1+cell": {
     "cellMetadata": {
      "byteLimit": 2048000,
      "rowLimit": 10000
     },
     "inputWidgets": {},
     "nuid": "7c29ccae-a979-49a0-9a4d-0041582486f5",
     "showTitle": true,
     "tableResultSettingsMap": {},
     "title": "Assig Widgets to Parameters"
    }
   },
   "outputs": [],
   "source": [
    "# assign parameters to variables\n",
    "catalog = dbutils.widgets.get(name = \"catalog\")\n",
    "schema = dbutils.widgets.get(name = \"schema\")\n",
    "volume = dbutils.widgets.get(name = \"volume\")\n",
    "volume_path = f\"/Volumes/{catalog}/{schema}/{volume}\"\n",
    "sas_token = dbutils.widgets.get(name = \"sas_token\")\n",
    "\n",
    "# print values\n",
    "print(f\"\"\"\n",
    "  catalog = {catalog}\n",
    "  schema = {schema}\n",
    "  volume = {volume_path}\n",
    "\"\"\")"
   ]
  },
  {
   "cell_type": "code",
   "execution_count": 0,
   "metadata": {
    "application/vnd.databricks.v1+cell": {
     "cellMetadata": {
      "byteLimit": 2048000,
      "implicitDf": true,
      "rowLimit": 10000
     },
     "inputWidgets": {},
     "nuid": "7dfd0e89-561f-4279-a954-7fb6a3829e13",
     "showTitle": true,
     "tableResultSettingsMap": {},
     "title": "Create & Use Catalog and Schema"
    }
   },
   "outputs": [],
   "source": [
    "%sql\n",
    "create catalog if not exists ${catalog};\n",
    "use catalog ${catalog};\n",
    "\n",
    "create schema if not exists ${schema};\n",
    "use schema ${schema};"
   ]
  },
  {
   "cell_type": "code",
   "execution_count": 0,
   "metadata": {
    "application/vnd.databricks.v1+cell": {
     "cellMetadata": {},
     "inputWidgets": {},
     "nuid": "352902b5-17da-40fe-943b-421687ec7bbd",
     "showTitle": true,
     "tableResultSettingsMap": {},
     "title": "Check Current Catalog & Schema"
    }
   },
   "outputs": [],
   "source": [
    "%sql\n",
    "select current_catalog(), current_schema();"
   ]
  },
  {
   "cell_type": "code",
   "execution_count": 0,
   "metadata": {
    "application/vnd.databricks.v1+cell": {
     "cellMetadata": {
      "byteLimit": 2048000,
      "rowLimit": 10000
     },
     "inputWidgets": {},
     "nuid": "9f34efdf-fd2e-4ed0-bba6-ae743b97213d",
     "showTitle": true,
     "tableResultSettingsMap": {},
     "title": "Lists Files in ADLS Container"
    }
   },
   "outputs": [],
   "source": [
    "## set configurations to use SAS token to connect to ADLS Gen2 Blob storage container\n",
    "source_container_name = \"dxc\"\n",
    "source_account_name = \"dbsqlworkshop\"\n",
    "\n",
    "spark.conf.set(f\"fs.azure.account.auth.type.{source_account_name}.dfs.core.windows.net\", \"SAS\")\n",
    "spark.conf.set(f\"fs.azure.sas.token.provider.type.{source_account_name}.dfs.core.windows.net\", \"org.apache.hadoop.fs.azurebfs.sas.FixedSASTokenProvider\")\n",
    "spark.conf.set(f\"fs.azure.sas.fixed.token.{source_account_name}.dfs.core.windows.net\", sas_token)\n",
    "\n",
    "source_url = f\"abfss://{source_container_name}@{source_account_name}.dfs.core.windows.net\"\n",
    "dbutils.fs.ls(source_url)"
   ]
  },
  {
   "cell_type": "code",
   "execution_count": 0,
   "metadata": {
    "application/vnd.databricks.v1+cell": {
     "cellMetadata": {
      "byteLimit": 2048000,
      "rowLimit": 10000
     },
     "inputWidgets": {},
     "nuid": "d79b13bb-ebb8-4c79-9ed3-37b7ca769811",
     "showTitle": true,
     "tableResultSettingsMap": {},
     "title": "Copy files into Volume"
    }
   },
   "outputs": [],
   "source": [
    "## copy csv files into Volume\n",
    "dbutils.fs.cp(source_url, volume_path, recurse=True)"
   ]
  }
 ],
 "metadata": {
  "application/vnd.databricks.v1+notebook": {
   "computePreferences": null,
   "dashboards": [],
   "environmentMetadata": {
    "base_environment": "",
    "environment_version": "2"
   },
   "inputWidgetPreferences": null,
   "language": "python",
   "notebookMetadata": {
    "mostRecentlyExecutedCommandWithImplicitDF": {
     "commandId": 763836920321918,
     "dataframes": [
      "_sqldf"
     ]
    },
    "pythonIndentUnit": 2
   },
   "notebookName": "0. Copy Files from Cloud to Volume",
   "widgets": {
    "catalog": {
     "currentValue": "katsavchyn",
     "nuid": "f5b7270a-e7f7-47c0-a75c-760457961f94",
     "typedWidgetInfo": {
      "autoCreated": false,
      "defaultValue": "katsavchyn",
      "label": null,
      "name": "catalog",
      "options": {
       "widgetDisplayType": "Text",
       "validationRegex": null
      },
      "parameterDataType": "String"
     },
     "widgetInfo": {
      "widgetType": "text",
      "defaultValue": "katsavchyn",
      "label": null,
      "name": "catalog",
      "options": {
       "widgetType": "text",
       "autoCreated": null,
       "validationRegex": null
      }
     }
    },
    "sas_token": {
     "currentValue": "sp=rl&st=2025-05-28T16:54:10Z&se=2025-12-25T01:54:10Z&sv=2024-11-04&sr=c&sig=HyCARNIpBKuADestwGzjWSzmCCI8C%2BbZmAiQvhi1yAY%3D",
     "nuid": "419713d6-ecd0-4704-8273-83752dc4e5bf",
     "typedWidgetInfo": {
      "autoCreated": false,
      "defaultValue": "",
      "label": null,
      "name": "sas_token",
      "options": {
       "widgetDisplayType": "Text",
       "validationRegex": null
      },
      "parameterDataType": "String"
     },
     "widgetInfo": {
      "widgetType": "text",
      "defaultValue": "",
      "label": null,
      "name": "sas_token",
      "options": {
       "widgetType": "text",
       "autoCreated": null,
       "validationRegex": null
      }
     }
    },
    "schema": {
     "currentValue": "employee_analytics",
     "nuid": "188088e0-452a-4765-8386-d747dac01ce1",
     "typedWidgetInfo": {
      "autoCreated": false,
      "defaultValue": "employee_analytics",
      "label": null,
      "name": "schema",
      "options": {
       "widgetDisplayType": "Text",
       "validationRegex": null
      },
      "parameterDataType": "String"
     },
     "widgetInfo": {
      "widgetType": "text",
      "defaultValue": "employee_analytics",
      "label": null,
      "name": "schema",
      "options": {
       "widgetType": "text",
       "autoCreated": null,
       "validationRegex": null
      }
     }
    },
    "volume": {
     "currentValue": "raw_files",
     "nuid": "42c5c3b1-5055-484a-885a-4035a7f282e1",
     "typedWidgetInfo": {
      "autoCreated": false,
      "defaultValue": "raw_files",
      "label": null,
      "name": "volume",
      "options": {
       "widgetDisplayType": "Text",
       "validationRegex": null
      },
      "parameterDataType": "String"
     },
     "widgetInfo": {
      "widgetType": "text",
      "defaultValue": "raw_files",
      "label": null,
      "name": "volume",
      "options": {
       "widgetType": "text",
       "autoCreated": null,
       "validationRegex": null
      }
     }
    }
   }
  },
  "language_info": {
   "name": "python"
  }
 },
 "nbformat": 4,
 "nbformat_minor": 0
}
