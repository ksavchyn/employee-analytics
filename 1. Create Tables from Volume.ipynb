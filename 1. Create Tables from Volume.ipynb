{
 "cells": [
  {
   "cell_type": "code",
   "execution_count": 0,
   "metadata": {
    "application/vnd.databricks.v1+cell": {
     "cellMetadata": {
      "byteLimit": 2048000,
      "rowLimit": 10000
     },
     "inputWidgets": {},
     "nuid": "612b413a-b59d-4414-b5c7-7b7539f877ed",
     "showTitle": false,
     "tableResultSettingsMap": {},
     "title": ""
    }
   },
   "outputs": [],
   "source": [
    "# create widgets\n",
    "dbutils.widgets.text('catalog', 'katsavchyn')\n",
    "dbutils.widgets.text('schema', 'employee_analytics')\n",
    "dbutils.widgets.text('volume', 'raw_files')"
   ]
  },
  {
   "cell_type": "code",
   "execution_count": 0,
   "metadata": {
    "application/vnd.databricks.v1+cell": {
     "cellMetadata": {
      "byteLimit": 2048000,
      "rowLimit": 10000
     },
     "inputWidgets": {},
     "nuid": "a81698e2-1add-4948-8c7b-642addb925e8",
     "showTitle": false,
     "tableResultSettingsMap": {},
     "title": ""
    }
   },
   "outputs": [],
   "source": [
    "catalog = dbutils.widgets.get(\"catalog\")\n",
    "schema = dbutils.widgets.get(\"schema\")\n",
    "volume = dbutils.widgets.get(\"volume\")"
   ]
  },
  {
   "cell_type": "code",
   "execution_count": 0,
   "metadata": {
    "application/vnd.databricks.v1+cell": {
     "cellMetadata": {
      "byteLimit": 2048000,
      "implicitDf": true,
      "rowLimit": 10000
     },
     "inputWidgets": {},
     "nuid": "993c01ef-78df-4461-8c99-102acddb1b4f",
     "showTitle": false,
     "tableResultSettingsMap": {},
     "title": ""
    }
   },
   "outputs": [],
   "source": [
    "%sql\n",
    "use catalog ${catalog};\n",
    "use schema ${schema};\n",
    "\n",
    "select current_catalog(), current_schema();"
   ]
  },
  {
   "cell_type": "code",
   "execution_count": 0,
   "metadata": {
    "application/vnd.databricks.v1+cell": {
     "cellMetadata": {
      "byteLimit": 2048000,
      "implicitDf": true,
      "rowLimit": 10000
     },
     "inputWidgets": {},
     "nuid": "f927c159-35d6-49b9-9e2d-6a8570f5e57c",
     "showTitle": true,
     "tableResultSettingsMap": {},
     "title": "Create table employee_data"
    }
   },
   "outputs": [],
   "source": [
    "%sql\n",
    "\n",
    "CREATE OR REPLACE TABLE employee_data (\n",
    "    EmpID BIGINT,\n",
    "    FirstName string,\n",
    "    LastName string,\n",
    "    StartDate DATE,\n",
    "    ExitDate DATE,\n",
    "    Title string,\n",
    "    Supervisor string,\n",
    "    ADEmail\tstring, \n",
    "    BusinessUnit string,\n",
    "    EmployeeStatus string,\n",
    "    EmployeeType string,\n",
    "    PayZone string,\n",
    "    EmployeeClassificationType string,\n",
    "    TerminationType string,\n",
    "    TerminationDescription string,\n",
    "    DepartmentType string,\n",
    "    Division string,\n",
    "    DOB DATE,\n",
    "    State string,\n",
    "    JobFunctionDescription string,\n",
    "    GenderCode string,\n",
    "    LocationCode string,\n",
    "    RaceDesc string,\n",
    "    MaritalDesc string,\n",
    "    `Performance Score` string,\n",
    "    `Current Employee Rating` BIGINT\n",
    ") USING DELTA\n",
    "TBLPROPERTIES (\n",
    "  'delta.minReaderVersion' = '2',\n",
    "  'delta.columnMapping.mode' = 'name')\n"
   ]
  },
  {
   "cell_type": "code",
   "execution_count": 0,
   "metadata": {
    "application/vnd.databricks.v1+cell": {
     "cellMetadata": {
      "byteLimit": 2048000,
      "implicitDf": true,
      "rowLimit": 10000
     },
     "inputWidgets": {},
     "nuid": "7c003819-4f46-4eac-b5df-1b9ffd04f627",
     "showTitle": true,
     "tableResultSettingsMap": {},
     "title": "Populate employee_data with CSV file, cast DTYPES"
    }
   },
   "outputs": [],
   "source": [
    "%sql\n",
    "COPY INTO employee_data\n",
    "FROM (\n",
    "  SELECT \n",
    "    CAST(EmpID AS BIGINT),\n",
    "    FirstName,\n",
    "    LastName,\n",
    "    to_date(StartDate, 'dd-MMM-yy') as StartDate,\n",
    "    to_date(ExitDate, 'dd-MMM-yy') as ExitDate,\n",
    "    Title,\n",
    "    Supervisor,\n",
    "    ADEmail,\n",
    "    BusinessUnit,\n",
    "    EmployeeStatus,\n",
    "    EmployeeType,\n",
    "    PayZone,\n",
    "    EmployeeClassificationType,\n",
    "    TerminationType,\n",
    "    TerminationDescription,\n",
    "    DepartmentType,\n",
    "    Division,\n",
    "    CASE \n",
    "      WHEN DOB LIKE '%/%/%' THEN to_date(DOB, 'd/M/yy')\n",
    "      ELSE to_date(DOB, 'dd-MM-yyyy')\n",
    "    END as DOB,\n",
    "    State,\n",
    "    JobFunctionDescription,\n",
    "    GenderCode,\n",
    "    LocationCode,\n",
    "    RaceDesc,\n",
    "    MaritalDesc,\n",
    "    `Performance Score`,\n",
    "    CAST(`Current Employee Rating` AS BIGINT)\n",
    "  FROM 'dbfs:/Volumes/${catalog}/${schema}/${volume}/employee_data.csv'\n",
    ")\n",
    "FILEFORMAT = csv \n",
    "FORMAT_OPTIONS ('header' = 'true')\n",
    "COPY_OPTIONS ('mergeSchema' = 'true', 'overwriteSchema' = 'false', 'OVERWRITE' = 'true');\n",
    "\n"
   ]
  },
  {
   "cell_type": "code",
   "execution_count": 0,
   "metadata": {
    "application/vnd.databricks.v1+cell": {
     "cellMetadata": {
      "byteLimit": 2048000,
      "implicitDf": true,
      "rowLimit": 10000
     },
     "inputWidgets": {},
     "nuid": "19c6c812-25c1-41e3-98ac-98d97db11a80",
     "showTitle": true,
     "tableResultSettingsMap": {},
     "title": "Create table employee_engagement_survey_data"
    }
   },
   "outputs": [],
   "source": [
    "%sql\n",
    "CREATE OR REPLACE TABLE employee_engagement_survey_data (\n",
    "    `Employee ID` BIGINT,\n",
    "    `Survey Date` DATE,\n",
    "    `Engagement Score` BIGINT,\n",
    "    `Satisfaction Score` BIGINT,\n",
    "    `Work-Life Balance Score` BIGINT\n",
    ") USING DELTA\n",
    "TBLPROPERTIES (\n",
    "  'delta.minReaderVersion' = '2',\n",
    "  'delta.columnMapping.mode' = 'name')"
   ]
  },
  {
   "cell_type": "code",
   "execution_count": 0,
   "metadata": {
    "application/vnd.databricks.v1+cell": {
     "cellMetadata": {
      "byteLimit": 2048000,
      "implicitDf": true,
      "rowLimit": 10000
     },
     "inputWidgets": {},
     "nuid": "2257a59c-1b61-41a3-8d2c-c9ab8e388746",
     "showTitle": true,
     "tableResultSettingsMap": {},
     "title": "Populate employee_engagement_survey_data table with csv, cast dtypes"
    }
   },
   "outputs": [],
   "source": [
    "%sql\n",
    "COPY INTO employee_engagement_survey_data\n",
    "FROM (\n",
    "  SELECT \n",
    "    CAST(`Employee ID` AS BIGINT),\n",
    "    to_date(`Survey Date`, 'dd-MM-yyyy') AS `Survey Date`,\n",
    "    CAST(`Engagement Score` AS BIGINT),\n",
    "    CAST(`Satisfaction Score` AS BIGINT),\n",
    "    CAST(`Work-Life Balance Score` AS BIGINT)\n",
    "  FROM \"dbfs:/Volumes/${catalog}/${schema}/${volume}/employee_engagement_survey_data.csv\"\n",
    ")\n",
    "FILEFORMAT = csv \n",
    "FORMAT_OPTIONS ('header' = 'true')\n",
    "COPY_OPTIONS ('mergeSchema' = 'true', 'overwriteSchema' = 'false', 'OVERWRITE' = 'true');"
   ]
  },
  {
   "cell_type": "code",
   "execution_count": 0,
   "metadata": {
    "application/vnd.databricks.v1+cell": {
     "cellMetadata": {
      "byteLimit": 2048000,
      "implicitDf": true,
      "rowLimit": 10000
     },
     "inputWidgets": {},
     "nuid": "e55276f2-f3a1-4270-a623-5971c3c65084",
     "showTitle": true,
     "tableResultSettingsMap": {},
     "title": "Create recruitment_data table"
    }
   },
   "outputs": [],
   "source": [
    "%sql\n",
    "\n",
    "CREATE OR REPLACE TABLE recruitment_data (\n",
    "  `Applicant ID` BIGINT,\n",
    "  `Application Date` DATE,\n",
    "  `First Name` STRING, \n",
    "  `Last Name` STRING,\n",
    "  `Gender` STRING,\n",
    "  `Date of Birth` DATE,\n",
    "  `Phone Number` STRING,\n",
    "  `Email` STRING,\n",
    "  `Address` STRING,\n",
    "  `City` STRING, \n",
    "  `State` STRING,\n",
    "  `Zip Code` STRING,\n",
    "  `Country` STRING,\n",
    "  `Education Level` STRING,\n",
    "  `Years of Experience` BIGINT, \n",
    "  `Desired Salary` DOUBLE,\n",
    "  `Job Title` STRING,\n",
    "  `Status` STRING\n",
    ") USING DELTA\n",
    "TBLPROPERTIES (\n",
    "  'delta.minReaderVersion' = '2',\n",
    "  'delta.columnMapping.mode' = 'name')\n"
   ]
  },
  {
   "cell_type": "code",
   "execution_count": 0,
   "metadata": {
    "application/vnd.databricks.v1+cell": {
     "cellMetadata": {
      "byteLimit": 2048000,
      "implicitDf": true,
      "rowLimit": 10000
     },
     "inputWidgets": {},
     "nuid": "ca11804b-4e9d-4ff3-8f65-eb9c78d233d4",
     "showTitle": true,
     "tableResultSettingsMap": {},
     "title": "Populate recruitment_data table with csv, cast dtypes"
    }
   },
   "outputs": [],
   "source": [
    "%sql\n",
    "COPY INTO recruitment_data\n",
    "FROM (\n",
    "  SELECT \n",
    "    CAST(`Applicant ID` AS BIGINT),\n",
    "    to_date(`Application Date`, 'dd-MMM-yy') AS `Application Date`,\n",
    "  `First Name`, \n",
    "  `Last Name`,\n",
    "  `Gender`,\n",
    "  CASE \n",
    "      WHEN `Date of Birth` LIKE '%/%/%' THEN to_date(`Date of Birth`, 'd/M/yy')\n",
    "      ELSE to_date(`Date of Birth`, 'dd-MM-yyyy')\n",
    "    END as `Date of Birth`,\n",
    "  `Phone Number`,\n",
    "  `Email`,\n",
    "  `Address`,\n",
    "  `City`, \n",
    "  `State`,\n",
    "  `Zip Code`,\n",
    "  `Country`,\n",
    "  `Education Level`,\n",
    "  CAST(`Years of Experience` AS BIGINT), \n",
    "  CAST(`Desired Salary` AS DOUBLE),\n",
    "  `Job Title`,\n",
    "  `Status`\n",
    "  FROM 'dbfs:/Volumes/${catalog}/${schema}/${volume}/recruitment_data.csv'\n",
    ")\n",
    "FILEFORMAT = csv \n",
    "FORMAT_OPTIONS ('header' = 'true')\n",
    "COPY_OPTIONS ('mergeSchema' = 'true', 'overwriteSchema' = 'false', 'OVERWRITE' = 'true');"
   ]
  },
  {
   "cell_type": "code",
   "execution_count": 0,
   "metadata": {
    "application/vnd.databricks.v1+cell": {
     "cellMetadata": {
      "byteLimit": 2048000,
      "implicitDf": true,
      "rowLimit": 10000
     },
     "inputWidgets": {},
     "nuid": "b0e8572d-b783-4b02-a3a3-53e5dee82fa9",
     "showTitle": true,
     "tableResultSettingsMap": {},
     "title": "Create training_and_development_data"
    }
   },
   "outputs": [],
   "source": [
    "%sql\n",
    "CREATE OR REPLACE TABLE training_and_development_data (\n",
    "  `Employee ID` BIGINT,\n",
    "  `Training Date` DATE,\n",
    "  `Training Program Name` STRING,\n",
    "  `Training Type` STRING,\n",
    "  `Training Outcome` STRING,\n",
    "  `Location` STRING,\n",
    "  `Trainer` STRING,\n",
    "  `Training Duration(Days)` BIGINT,\n",
    "  `Training Cost` DOUBLE\n",
    ") USING DELTA\n",
    "TBLPROPERTIES (\n",
    "  'delta.minReaderVersion' = '2',\n",
    "  'delta.columnMapping.mode' = 'name')"
   ]
  },
  {
   "cell_type": "code",
   "execution_count": 0,
   "metadata": {
    "application/vnd.databricks.v1+cell": {
     "cellMetadata": {
      "byteLimit": 2048000,
      "implicitDf": true,
      "rowLimit": 10000
     },
     "inputWidgets": {},
     "nuid": "2185b0ff-3205-44f7-b573-3867d9997009",
     "showTitle": false,
     "tableResultSettingsMap": {},
     "title": ""
    }
   },
   "outputs": [],
   "source": [
    "%sql\n",
    "COPY INTO training_and_development_data\n",
    "FROM (\n",
    "  SELECT \n",
    "    CAST(`Employee ID` AS BIGINT),\n",
    "    to_date(`Training Date`, 'dd-MMM-yy') AS `Training Date`,\n",
    "    `Training Program Name`,\n",
    "    `Training Type`,\n",
    "  `Training Outcome`,\n",
    "  `Location`,\n",
    "  `Trainer`,\n",
    "    CAST(`Training Duration(Days)` AS BIGINT),\n",
    "    CAST(`Training Cost` AS DOUBLE)\n",
    "  FROM 'dbfs:/Volumes/${catalog}/${schema}/${volume}/training_and_development_data.csv'\n",
    ")\n",
    "FILEFORMAT = csv \n",
    "FORMAT_OPTIONS ('header' = 'true')\n",
    "COPY_OPTIONS ('mergeSchema' = 'true', 'overwriteSchema' = 'false', 'OVERWRITE' = 'true');"
   ]
  }
 ],
 "metadata": {
  "application/vnd.databricks.v1+notebook": {
   "computePreferences": null,
   "dashboards": [],
   "environmentMetadata": {
    "base_environment": "",
    "environment_version": "2"
   },
   "inputWidgetPreferences": null,
   "language": "python",
   "notebookMetadata": {
    "mostRecentlyExecutedCommandWithImplicitDF": {
     "commandId": 763836920321904,
     "dataframes": [
      "_sqldf"
     ]
    },
    "pythonIndentUnit": 2
   },
   "notebookName": "1. Create Tables from Volume",
   "widgets": {
    "catalog": {
     "currentValue": "katsavchyn",
     "nuid": "35736657-ffed-484f-8b4d-b6496c141e66",
     "typedWidgetInfo": {
      "autoCreated": false,
      "defaultValue": "katsavchyn",
      "label": null,
      "name": "catalog",
      "options": {
       "widgetDisplayType": "Text",
       "validationRegex": null
      },
      "parameterDataType": "String"
     },
     "widgetInfo": {
      "widgetType": "text",
      "defaultValue": "katsavchyn",
      "label": null,
      "name": "catalog",
      "options": {
       "widgetType": "text",
       "autoCreated": null,
       "validationRegex": null
      }
     }
    },
    "schema": {
     "currentValue": "employee_analytics",
     "nuid": "237622fd-e6e3-43a8-963b-889ff4da71d6",
     "typedWidgetInfo": {
      "autoCreated": false,
      "defaultValue": "employee_analytics",
      "label": null,
      "name": "schema",
      "options": {
       "widgetDisplayType": "Text",
       "validationRegex": null
      },
      "parameterDataType": "String"
     },
     "widgetInfo": {
      "widgetType": "text",
      "defaultValue": "employee_analytics",
      "label": null,
      "name": "schema",
      "options": {
       "widgetType": "text",
       "autoCreated": null,
       "validationRegex": null
      }
     }
    },
    "volume": {
     "currentValue": "raw_files",
     "nuid": "29927b66-9a8c-4034-a4e0-2c8ac83eb706",
     "typedWidgetInfo": {
      "autoCreated": false,
      "defaultValue": "raw_files",
      "label": null,
      "name": "volume",
      "options": {
       "widgetDisplayType": "Text",
       "validationRegex": null
      },
      "parameterDataType": "String"
     },
     "widgetInfo": {
      "widgetType": "text",
      "defaultValue": "raw_files",
      "label": null,
      "name": "volume",
      "options": {
       "widgetType": "text",
       "autoCreated": null,
       "validationRegex": null
      }
     }
    }
   }
  },
  "language_info": {
   "name": "python"
  }
 },
 "nbformat": 4,
 "nbformat_minor": 0
}
