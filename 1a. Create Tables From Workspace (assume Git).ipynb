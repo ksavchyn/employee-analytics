{
 "cells": [
  {
   "cell_type": "code",
   "execution_count": 0,
   "metadata": {
    "application/vnd.databricks.v1+cell": {
     "cellMetadata": {
      "byteLimit": 2048000,
      "rowLimit": 10000
     },
     "inputWidgets": {},
     "nuid": "03d888cc-9b76-448d-948c-2524a3a2c256",
     "showTitle": true,
     "tableResultSettingsMap": {},
     "title": "Set Widget Inputs"
    }
   },
   "outputs": [],
   "source": [
    "# create widgets\n",
    "dbutils.widgets.text('catalog', 'katsavchyn')\n",
    "dbutils.widgets.text('schema', 'employee_analytics')"
   ]
  },
  {
   "cell_type": "code",
   "execution_count": 0,
   "metadata": {
    "application/vnd.databricks.v1+cell": {
     "cellMetadata": {
      "byteLimit": 2048000,
      "rowLimit": 10000
     },
     "inputWidgets": {},
     "nuid": "ebff704d-cf24-421c-91de-45e2e8c01831",
     "showTitle": true,
     "tableResultSettingsMap": {},
     "title": "Get Widget Inputs"
    }
   },
   "outputs": [],
   "source": [
    "catalog = dbutils.widgets.get(\"catalog\")\n",
    "schema = dbutils.widgets.get(\"schema\")\n",
    "volume = dbutils.widgets.get(\"volume\")"
   ]
  },
  {
   "cell_type": "code",
   "execution_count": 0,
   "metadata": {
    "application/vnd.databricks.v1+cell": {
     "cellMetadata": {
      "byteLimit": 2048000,
      "implicitDf": true,
      "rowLimit": 10000
     },
     "inputWidgets": {},
     "nuid": "2e7a9797-92a6-4f10-ae70-5688ae5c764c",
     "showTitle": true,
     "tableResultSettingsMap": {},
     "title": "Set catalog & Schema"
    }
   },
   "outputs": [],
   "source": [
    "%sql\n",
    "use catalog ${catalog};\n",
    "use schema ${schema};\n",
    "\n",
    "select current_catalog(), current_schema();"
   ]
  },
  {
   "cell_type": "code",
   "execution_count": 0,
   "metadata": {
    "application/vnd.databricks.v1+cell": {
     "cellMetadata": {
      "byteLimit": 2048000,
      "implicitDf": true,
      "rowLimit": 10000
     },
     "inputWidgets": {},
     "nuid": "357dd1d6-6d6c-43ac-b444-de173702aa07",
     "showTitle": false,
     "tableResultSettingsMap": {},
     "title": ""
    }
   },
   "outputs": [],
   "source": [
    "dbutils.notebook.entry_point.getDbutils().notebook().getContext().notebookPath().get()"
   ]
  },
  {
   "cell_type": "code",
   "execution_count": 0,
   "metadata": {
    "application/vnd.databricks.v1+cell": {
     "cellMetadata": {},
     "inputWidgets": {},
     "nuid": "1844c754-2df4-443a-b528-183df3b7631d",
     "showTitle": false,
     "tableResultSettingsMap": {},
     "title": ""
    }
   },
   "outputs": [],
   "source": [
    "#dbutils.fs.ls(\"file:/Workspace/Users/kateryna.savchyn@databricks.com/Test_Notebooks/employee-analytics\")"
   ]
  },
  {
   "cell_type": "code",
   "execution_count": 0,
   "metadata": {
    "application/vnd.databricks.v1+cell": {
     "cellMetadata": {
      "byteLimit": 2048000,
      "implicitDf": true,
      "rowLimit": 10000
     },
     "inputWidgets": {},
     "nuid": "7a34902e-9815-456e-8883-94039e735c0c",
     "showTitle": true,
     "tableResultSettingsMap": {},
     "title": "Create employee_data table"
    }
   },
   "outputs": [],
   "source": [
    "%sql\n",
    "\n",
    "CREATE OR REPLACE TABLE employee_data (\n",
    "    EmpID BIGINT,\n",
    "    FirstName string,\n",
    "    LastName string,\n",
    "    StartDate DATE,\n",
    "    ExitDate DATE,\n",
    "    Title string,\n",
    "    Supervisor string,\n",
    "    ADEmail\tstring, \n",
    "    BusinessUnit string,\n",
    "    EmployeeStatus string,\n",
    "    EmployeeType string,\n",
    "    PayZone string,\n",
    "    EmployeeClassificationType string,\n",
    "    TerminationType string,\n",
    "    TerminationDescription string,\n",
    "    DepartmentType string,\n",
    "    Division string,\n",
    "    DOB DATE,\n",
    "    State string,\n",
    "    JobFunctionDescription string,\n",
    "    GenderCode string,\n",
    "    LocationCode string,\n",
    "    RaceDesc string,\n",
    "    MaritalDesc string,\n",
    "    `Performance Score` string,\n",
    "    `Current Employee Rating` BIGINT\n",
    ") USING DELTA\n",
    "TBLPROPERTIES (\n",
    "  'delta.minReaderVersion' = '2',\n",
    "  'delta.columnMapping.mode' = 'name')\n"
   ]
  },
  {
   "cell_type": "code",
   "execution_count": 0,
   "metadata": {
    "application/vnd.databricks.v1+cell": {
     "cellMetadata": {
      "byteLimit": 2048000,
      "implicitDf": true,
      "rowLimit": 10000
     },
     "inputWidgets": {},
     "nuid": "ffc930f2-d9f9-467c-80fc-77ec1a4887c5",
     "showTitle": true,
     "tableResultSettingsMap": {},
     "title": "Copy csv file into table, cast DTYPES"
    }
   },
   "outputs": [],
   "source": [
    "%sql\n",
    "COPY INTO employee_data\n",
    "FROM (\n",
    "  SELECT \n",
    "    CAST(EmpID AS BIGINT),\n",
    "    FirstName,\n",
    "    LastName,\n",
    "    to_date(StartDate, 'dd-MMM-yy') as StartDate,\n",
    "    to_date(ExitDate, 'dd-MMM-yy') as ExitDate,\n",
    "    Title,\n",
    "    Supervisor,\n",
    "    ADEmail,\n",
    "    BusinessUnit,\n",
    "    EmployeeStatus,\n",
    "    EmployeeType,\n",
    "    PayZone,\n",
    "    EmployeeClassificationType,\n",
    "    TerminationType,\n",
    "    TerminationDescription,\n",
    "    DepartmentType,\n",
    "    Division,\n",
    "    CASE \n",
    "      WHEN DOB LIKE '%/%/%' THEN to_date(DOB, 'd/M/yy')\n",
    "      ELSE to_date(DOB, 'dd-MM-yyyy')\n",
    "    END as DOB,\n",
    "    State,\n",
    "    JobFunctionDescription,\n",
    "    GenderCode,\n",
    "    LocationCode,\n",
    "    RaceDesc,\n",
    "    MaritalDesc,\n",
    "    `Performance Score`,\n",
    "    CAST(`Current Employee Rating` AS BIGINT)\n",
    "  FROM 'file:/Workspace/Users/kateryna.savchyn@databricks.com/Test_Notebooks/employee-analytics/employee_data.csv'\n",
    ")\n",
    "FILEFORMAT = csv \n",
    "FORMAT_OPTIONS ('header' = 'true')\n",
    "COPY_OPTIONS ('mergeSchema' = 'true', 'overwriteSchema' = 'false', 'OVERWRITE' = 'true');"
   ]
  },
  {
   "cell_type": "code",
   "execution_count": 0,
   "metadata": {
    "application/vnd.databricks.v1+cell": {
     "cellMetadata": {
      "byteLimit": 2048000,
      "implicitDf": true,
      "rowLimit": 10000
     },
     "inputWidgets": {},
     "nuid": "3165c6a4-4cce-496d-8490-47faef9065ca",
     "showTitle": true,
     "tableResultSettingsMap": {},
     "title": "Create employee_engagement_survey_data"
    }
   },
   "outputs": [],
   "source": [
    "%sql\n",
    "CREATE OR REPLACE TABLE employee_engagement_survey_data (\n",
    "    `Employee ID` BIGINT,\n",
    "    `Survey Date` DATE,\n",
    "    `Engagement Score` BIGINT,\n",
    "    `Satisfaction Score` BIGINT,\n",
    "    `Work-Life Balance Score` BIGINT\n",
    ") USING DELTA\n",
    "TBLPROPERTIES (\n",
    "  'delta.minReaderVersion' = '2',\n",
    "  'delta.columnMapping.mode' = 'name')"
   ]
  },
  {
   "cell_type": "code",
   "execution_count": 0,
   "metadata": {
    "application/vnd.databricks.v1+cell": {
     "cellMetadata": {
      "byteLimit": 2048000,
      "implicitDf": true,
      "rowLimit": 10000
     },
     "inputWidgets": {},
     "nuid": "7c384165-9643-4f16-b231-58a80436af05",
     "showTitle": true,
     "tableResultSettingsMap": {},
     "title": "copy in csv data, cast date"
    }
   },
   "outputs": [],
   "source": [
    "%sql\n",
    "COPY INTO employee_engagement_survey_data\n",
    "FROM (\n",
    "  SELECT \n",
    "    CAST(`Employee ID` AS BIGINT),\n",
    "    to_date(`Survey Date`, 'dd-MM-yyyy') AS `Survey Date`,\n",
    "    CAST(`Engagement Score` AS BIGINT),\n",
    "    CAST(`Satisfaction Score` AS BIGINT),\n",
    "    CAST(`Work-Life Balance Score` AS BIGINT)\n",
    "  FROM 'file:/Workspace/Users/kateryna.savchyn@databricks.com/Test_Notebooks/employee-analytics/employee_engagement_survey_data.csv'\n",
    ")\n",
    "FILEFORMAT = csv \n",
    "FORMAT_OPTIONS ('header' = 'true')\n",
    "COPY_OPTIONS ('mergeSchema' = 'true', 'overwriteSchema' = 'false', 'OVERWRITE' = 'true');"
   ]
  },
  {
   "cell_type": "code",
   "execution_count": 0,
   "metadata": {
    "application/vnd.databricks.v1+cell": {
     "cellMetadata": {
      "byteLimit": 2048000,
      "implicitDf": true,
      "rowLimit": 10000
     },
     "inputWidgets": {},
     "nuid": "cb70c0f9-4ba0-4666-abfe-70e67aeec9d4",
     "showTitle": true,
     "tableResultSettingsMap": {},
     "title": "create recruitment_data table"
    }
   },
   "outputs": [],
   "source": [
    "%sql\n",
    "\n",
    "CREATE OR REPLACE TABLE recruitment_data (\n",
    "  `Applicant ID` BIGINT,\n",
    "  `Application Date` DATE,\n",
    "  `First Name` STRING, \n",
    "  `Last Name` STRING,\n",
    "  `Gender` STRING,\n",
    "  `Date of Birth` DATE,\n",
    "  `Phone Number` STRING,\n",
    "  `Email` STRING,\n",
    "  `Address` STRING,\n",
    "  `City` STRING, \n",
    "  `State` STRING,\n",
    "  `Zip Code` STRING,\n",
    "  `Country` STRING,\n",
    "  `Education Level` STRING,\n",
    "  `Years of Experience` BIGINT, \n",
    "  `Desired Salary` DOUBLE,\n",
    "  `Job Title` STRING,\n",
    "  `Status` STRING\n",
    ") USING DELTA\n",
    "TBLPROPERTIES (\n",
    "  'delta.minReaderVersion' = '2',\n",
    "  'delta.columnMapping.mode' = 'name')\n"
   ]
  },
  {
   "cell_type": "code",
   "execution_count": 0,
   "metadata": {
    "application/vnd.databricks.v1+cell": {
     "cellMetadata": {
      "byteLimit": 2048000,
      "implicitDf": true,
      "rowLimit": 10000
     },
     "inputWidgets": {},
     "nuid": "210a4677-768c-4a87-a983-167cab359fd7",
     "showTitle": true,
     "tableResultSettingsMap": {},
     "title": "copy csv into table, cast dtypes"
    }
   },
   "outputs": [],
   "source": [
    "%sql\n",
    "COPY INTO recruitment_data\n",
    "FROM (\n",
    "  SELECT \n",
    "    CAST(`Applicant ID` AS BIGINT),\n",
    "    to_date(`Application Date`, 'dd-MMM-yy') AS `Application Date`,\n",
    "  `First Name`, \n",
    "  `Last Name`,\n",
    "  `Gender`,\n",
    "  CASE \n",
    "      WHEN `Date of Birth` LIKE '%/%/%' THEN to_date(`Date of Birth`, 'd/M/yy')\n",
    "      ELSE to_date(`Date of Birth`, 'dd-MM-yyyy')\n",
    "    END as `Date of Birth`,\n",
    "  `Phone Number`,\n",
    "  `Email`,\n",
    "  `Address`,\n",
    "  `City`, \n",
    "  `State`,\n",
    "  `Zip Code`,\n",
    "  `Country`,\n",
    "  `Education Level`,\n",
    "  CAST(`Years of Experience` AS BIGINT), \n",
    "  CAST(`Desired Salary` AS DOUBLE),\n",
    "  `Job Title`,\n",
    "  `Status`\n",
    "  FROM 'file:/Workspace/Users/kateryna.savchyn@databricks.com/Test_Notebooks/employee-analytics/recruitment_data.csv'\n",
    ")\n",
    "FILEFORMAT = csv \n",
    "FORMAT_OPTIONS ('header' = 'true')\n",
    "COPY_OPTIONS ('mergeSchema' = 'true', 'overwriteSchema' = 'false', 'OVERWRITE' = 'true');"
   ]
  },
  {
   "cell_type": "code",
   "execution_count": 0,
   "metadata": {
    "application/vnd.databricks.v1+cell": {
     "cellMetadata": {
      "byteLimit": 2048000,
      "implicitDf": true,
      "rowLimit": 10000
     },
     "inputWidgets": {},
     "nuid": "4e63cc4f-90cf-40b8-b24f-8452cc5615e5",
     "showTitle": true,
     "tableResultSettingsMap": {},
     "title": "Create training_and_development_data table"
    }
   },
   "outputs": [],
   "source": [
    "\n",
    "%sql\n",
    "CREATE OR REPLACE TABLE training_and_development_data (\n",
    "  `Employee ID` BIGINT,\n",
    "  `Training Date` DATE,\n",
    "  `Training Program Name` STRING,\n",
    "  `Training Type` STRING,\n",
    "  `Training Outcome` STRING,\n",
    "  `Location` STRING,\n",
    "  `Trainer` STRING,\n",
    "  `Training Duration(Days)` BIGINT,\n",
    "  `Training Cost` DOUBLE\n",
    ") USING DELTA\n",
    "TBLPROPERTIES (\n",
    "  'delta.minReaderVersion' = '2',\n",
    "  'delta.columnMapping.mode' = 'name')\n"
   ]
  },
  {
   "cell_type": "code",
   "execution_count": 0,
   "metadata": {
    "application/vnd.databricks.v1+cell": {
     "cellMetadata": {
      "byteLimit": 2048000,
      "implicitDf": true,
      "rowLimit": 10000
     },
     "inputWidgets": {},
     "nuid": "d27c3c33-fc55-4a59-957a-7d0b5876e838",
     "showTitle": true,
     "tableResultSettingsMap": {},
     "title": "Populate with CSV data, cast dtypes"
    }
   },
   "outputs": [],
   "source": [
    "%sql\n",
    "COPY INTO training_and_development_data\n",
    "FROM (\n",
    "  SELECT \n",
    "    CAST(`Employee ID` AS BIGINT),\n",
    "    to_date(`Training Date`, 'dd-MMM-yy') AS `Training Date`,\n",
    "    `Training Program Name`,\n",
    "    `Training Type`,\n",
    "  `Training Outcome`,\n",
    "  `Location`,\n",
    "  `Trainer`,\n",
    "    CAST(`Training Duration(Days)` AS BIGINT),\n",
    "    CAST(`Training Cost` AS DOUBLE)\n",
    "  FROM 'file:/Workspace/Users/kateryna.savchyn@databricks.com/Test_Notebooks/employee-analytics/training_and_development_data.csv'\n",
    ")\n",
    "FILEFORMAT = csv \n",
    "FORMAT_OPTIONS ('header' = 'true')\n",
    "COPY_OPTIONS ('mergeSchema' = 'true', 'overwriteSchema' = 'false', 'OVERWRITE' = 'true');"
   ]
  }
 ],
 "metadata": {
  "application/vnd.databricks.v1+notebook": {
   "computePreferences": null,
   "dashboards": [],
   "environmentMetadata": {
    "base_environment": "",
    "environment_version": "2"
   },
   "inputWidgetPreferences": null,
   "language": "python",
   "notebookMetadata": {
    "mostRecentlyExecutedCommandWithImplicitDF": {
     "commandId": -1,
     "dataframes": [
      "_sqldf"
     ]
    },
    "pythonIndentUnit": 2
   },
   "notebookName": "1a. Create Tables From Workspace (assume Git)",
   "widgets": {
    "catalog": {
     "currentValue": "katsavchyn",
     "nuid": "1e9b87b0-f82f-42c7-83f5-aee3054b3588",
     "typedWidgetInfo": {
      "autoCreated": false,
      "defaultValue": "katsavchyn",
      "label": null,
      "name": "catalog",
      "options": {
       "widgetDisplayType": "Text",
       "validationRegex": null
      },
      "parameterDataType": "String"
     },
     "widgetInfo": {
      "widgetType": "text",
      "defaultValue": "katsavchyn",
      "label": null,
      "name": "catalog",
      "options": {
       "widgetType": "text",
       "autoCreated": null,
       "validationRegex": null
      }
     }
    },
    "schema": {
     "currentValue": "employee_analytics",
     "nuid": "8030bc43-b73c-47cf-97f7-16f21a970f99",
     "typedWidgetInfo": {
      "autoCreated": false,
      "defaultValue": "employee_analytics",
      "label": null,
      "name": "schema",
      "options": {
       "widgetDisplayType": "Text",
       "validationRegex": null
      },
      "parameterDataType": "String"
     },
     "widgetInfo": {
      "widgetType": "text",
      "defaultValue": "employee_analytics",
      "label": null,
      "name": "schema",
      "options": {
       "widgetType": "text",
       "autoCreated": null,
       "validationRegex": null
      }
     }
    }
   }
  },
  "language_info": {
   "name": "python"
  }
 },
 "nbformat": 4,
 "nbformat_minor": 0
}
